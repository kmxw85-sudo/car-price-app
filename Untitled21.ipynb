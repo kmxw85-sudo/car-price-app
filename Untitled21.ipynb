import streamlit as st
import pandas as pd
import joblib

# تحميل النموذج
model = joblib.load("car_model.pkl")

st.title("🚗 Egyptian Used Car Price Prediction")

# إدخال البيانات
year = st.number_input("سنة الصنع", 1990, 2025, 2015)
km_driven = st.number_input("الكيلومترات", 0, 500000, 100000)

# زرار التوقع
if st.button("توقع السعر"):
    input_data = pd.DataFrame([[year, km_driven]], columns=["year", "km_driven"])
    prediction = model.predict(input_data)[0]
    st.success(f"💰 السعر المتوقع: {prediction:,.0f} جنيه")
